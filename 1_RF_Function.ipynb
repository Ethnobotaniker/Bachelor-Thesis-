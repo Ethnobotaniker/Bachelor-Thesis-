{
 "cells": [
  {
   "cell_type": "code",
   "execution_count": null,
   "metadata": {},
   "outputs": [],
   "source": [
    "import pandas as pd\n",
    "import matplotlib\n",
    "import matplotlib.pyplot as plt\n",
    "import seaborn as sns\n",
    "import numpy as np\n",
    "%matplotlib inline\n",
    "from sklearn.model_selection import train_test_split\n",
    "from sklearn.ensemble import RandomForestClassifier\n",
    "from sklearn.model_selection import cross_validate\n",
    "from sklearn import metrics\n",
    "from sklearn.metrics import confusion_matrix\n",
    "from sklearn.preprocessing import StandardScaler\n",
    "from sklearn.model_selection import cross_val_predict\n",
    "from sklearn.metrics import cohen_kappa_score\n"
   ]
  },
  {
   "cell_type": "code",
   "execution_count": null,
   "metadata": {},
   "outputs": [],
   "source": [
    "def RF_Function (input_1,mystery):\n",
    "    inputdf=pd.read_csv(input_1).drop([\"ovarall\"],axis=1, errors='ignore')\n",
    "    df=inputdf.drop([\"Unnamed: 0\"],axis=1, errors='ignore').set_index(\"species\").T\n",
    "    \n",
    "    #Spalte mit label adden\n",
    "    df[\"Label\"]=df.index\n",
    "    df[\"Label\"]=df.Label.apply(lambda x: 'SGP' if 'SGP' in x else x)\n",
    "    df[\"Label\"]=df.Label.apply(lambda x: 'ICN' if 'ICN' in x else x)\n",
    "    df[\"Label\"]=df.Label.apply(lambda x: 'NYC' if 'NYC' in x else x)\n",
    "    df[\"Label\"]=df.Label.apply(lambda x: 'HKG' if 'HKG' in x else x)\n",
    "    df[\"Label\"]=df.Label.apply(lambda x: 'TPE' if 'TPE' in x else x)\n",
    "    df[\"Label\"]=df.Label.apply(lambda x: 'TYO' if 'TYO' in x else x)\n",
    "    df[\"Label\"]=df.Label.apply(lambda x: 'ILR' if 'ILR' in x else x)\n",
    "    df[\"Label\"]=df.Label.apply(lambda x: 'IEV' if 'IEV' in x else x)\n",
    "    df[\"Label\"]=df.Label.apply(lambda x: 'VIE' if 'VIE' in x else x)\n",
    "    df = df.sort_values('Label')\n",
    "    \n",
    "    #train test split\n",
    "    X=df[df.columns[0:df.shape[1]-1]]\n",
    "    Y=df[\"Label\"]\n",
    "    X_train, X_test, Y_train, Y_test=train_test_split(X,Y,test_size=0.3,stratify=df[\"Label\"],random_state=123)\n",
    "    \n",
    "    \n",
    "    #rf classification definieren\n",
    "    clf=RandomForestClassifier(n_estimators=7800,max_depth=9,min_samples_split=3,min_samples_leaf=3,random_state=1234)\n",
    "    \n",
    "    #rf training\n",
    "    clf.fit(X_train,Y_train)\n",
    "    \n",
    "    #rf prediction and classification report\n",
    "    print(\"Classification Report:\")\n",
    "    Y_pred=clf.predict(X_test)\n",
    "    print(metrics.classification_report(Y_test,Y_pred))\n",
    "    print(\"Cohen Kappa value:\",cohen_kappa_score(Y_test,Y_pred))\n",
    "   \n",
    "    #rf 5 fold cross validation with classification report\n",
    "    cv = cross_val_predict(clf, X_train, Y_train, cv=5)\n",
    "    print(metrics.classification_report(Y_train,cv))\n",
    "    type(cv)\n",
    "    \n",
    "    #rf 5 fold cross validation for more accurate accuracy value\n",
    "    cvv = cross_validate(clf, X_train, Y_train, cv=5)\n",
    "    print()\n",
    "    print(\"5-fold-cross-validation:\")\n",
    "    print(\"Test score for each fold:\" ,cvv['test_score'])\n",
    "    print(\"Mean test score for 5 fold cross validation:\",cvv['test_score'].mean())\n",
    "    \n",
    "    #feature importances graph\n",
    "    feature_importance= pd.Series(clf.feature_importances_,index=df.columns[0:df.shape[1]-1]).sort_values(ascending=False)\n",
    "    TOP_10_Features= feature_importance.head(10)\n",
    "    plt.figure(figsize=(16,8))\n",
    "    plt.title(\"Top 10 Features not tuned\")\n",
    "    plt.xticks(rotation=75)\n",
    "    plt.ticklabel_format(style=\"plain\",axis=\"y\")\n",
    "    sns.barplot(TOP_10_Features, TOP_10_Features.index) \n",
    "    \n",
    "    #Mystery Sample prediction\n",
    "    Mystery=pd.read_csv(mystery)\n",
    "    XM=Mystery[Mystery.columns[0:df.shape[1]-1]]\n",
    "    YM=Mystery[\"Label\"]\n",
    "    Y_pred_M=clf.predict(XM)\n",
    "    print()\n",
    "    print(\"Classification Report Myster Sample:\")\n",
    "    print(metrics.classification_report(YM,Y_pred_M,zero_division=0))\n",
    "    unique, counts = np.unique(Y_pred_M, return_counts=True)\n",
    "    print(dict(zip(unique,counts)))"
   ]
  },
  {
   "cell_type": "code",
   "execution_count": null,
   "metadata": {},
   "outputs": [],
   "source": [
    "RF_Function(\"top10.csv\",\"Mystery_Test_Set_Top_10.csv\")"
   ]
  },
  {
   "cell_type": "code",
   "execution_count": null,
   "metadata": {},
   "outputs": [],
   "source": [
    "RF_Function(\"top10_1.csv\",\"Mystery_Test_Set_Top_10_1.csv\")"
   ]
  },
  {
   "cell_type": "code",
   "execution_count": null,
   "metadata": {},
   "outputs": [],
   "source": [
    "RF_Function(\"top10_2.csv\",\"Mystery_Test_Set_Top_10_2.csv\")"
   ]
  },
  {
   "cell_type": "code",
   "execution_count": null,
   "metadata": {},
   "outputs": [],
   "source": [
    "RF_Function(\"top20.csv\",\"Mystery_Test_Set_Top_20.csv\")"
   ]
  },
  {
   "cell_type": "code",
   "execution_count": null,
   "metadata": {},
   "outputs": [],
   "source": [
    "RF_Function(\"top20_1.csv\",\"Mystery_Test_Set_Top_20_1.csv\")"
   ]
  },
  {
   "cell_type": "code",
   "execution_count": null,
   "metadata": {},
   "outputs": [],
   "source": [
    "RF_Function(\"top20_2.csv\",\"Mystery_Test_Set_Top_20_2.csv\")"
   ]
  },
  {
   "cell_type": "code",
   "execution_count": null,
   "metadata": {},
   "outputs": [],
   "source": [
    "RF_Function(\"top30.csv\",\"Mystery_Test_Set_Top_30.csv\")"
   ]
  },
  {
   "cell_type": "code",
   "execution_count": null,
   "metadata": {},
   "outputs": [],
   "source": [
    "RF_Function(\"top30_1.csv\",\"Mystery_Test_Set_Top_30_1.csv\")"
   ]
  },
  {
   "cell_type": "code",
   "execution_count": null,
   "metadata": {},
   "outputs": [],
   "source": [
    "RF_Function(\"top30_2.csv\",\"Mystery_Test_Set_Top_30_2.csv\")"
   ]
  },
  {
   "cell_type": "code",
   "execution_count": null,
   "metadata": {},
   "outputs": [],
   "source": [
    "RF_Function(\"top100.csv\",\"Mystery_Test_Set_Top_100.csv\")"
   ]
  },
  {
   "cell_type": "code",
   "execution_count": null,
   "metadata": {},
   "outputs": [],
   "source": [
    "RF_Function(\"top100_1.csv\",\"Mystery_Test_Set_Top_100_1.csv\")"
   ]
  },
  {
   "cell_type": "code",
   "execution_count": null,
   "metadata": {},
   "outputs": [],
   "source": [
    "RF_Function(\"top100_2.csv\",\"Mystery_Test_Set_Top_100_2.csv\")"
   ]
  },
  {
   "cell_type": "code",
   "execution_count": null,
   "metadata": {},
   "outputs": [],
   "source": [
    "RF_Function(\"bacteria\")"
   ]
  }
 ],
 "metadata": {
  "kernelspec": {
   "display_name": "Python 3",
   "language": "python",
   "name": "python3"
  },
  "language_info": {
   "codemirror_mode": {
    "name": "ipython",
    "version": 3
   },
   "file_extension": ".py",
   "mimetype": "text/x-python",
   "name": "python",
   "nbconvert_exporter": "python",
   "pygments_lexer": "ipython3",
   "version": "3.8.5"
  }
 },
 "nbformat": 4,
 "nbformat_minor": 4
}
