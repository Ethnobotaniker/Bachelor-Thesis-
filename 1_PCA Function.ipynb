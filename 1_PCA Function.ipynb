{
 "cells": [
  {
   "cell_type": "code",
   "execution_count": null,
   "metadata": {},
   "outputs": [],
   "source": [
    "import pandas as pd\n",
    "import matplotlib\n",
    "import matplotlib.pyplot as plt\n",
    "import seaborn as sns\n",
    "import numpy as np\n",
    "import plotly.express as px\n",
    "from sklearn.decomposition import PCA\n",
    "from sklearn.preprocessing import StandardScaler"
   ]
  },
  {
   "cell_type": "code",
   "execution_count": null,
   "metadata": {},
   "outputs": [],
   "source": [
    "def PCA_Function (x,Titel):\n",
    "    #reading input data/preprocessing\n",
    "    inputdf=pd.read_csv(x)\n",
    "    df=inputdf.drop(inputdf.columns[0],axis=1).set_index(\"species\").T\n",
    "    index=df.index\n",
    "    XX=StandardScaler().fit_transform(df)\n",
    "    \n",
    "    #Graph which shows a line of how many pricnipal components are needed to explain a certain amount of variation\n",
    "    pca_test = PCA()\n",
    "    pca_test.fit(XX)\n",
    "    sns.set(style='whitegrid')\n",
    "    plt.figure(dpi=150)\n",
    "    plt.plot(np.cumsum(pca_test.explained_variance_ratio_))\n",
    "    plt.title('explained variance per PC')\n",
    "    plt.xlabel('number of components')\n",
    "    plt.ylabel('explained variance')\n",
    "    display(plt.show())\n",
    "    \n",
    "    #table that shows of how many pricnipal components are needed to explain a certain amount of variation \n",
    "    evr = pca_test.explained_variance_ratio_\n",
    "    cvr = np.cumsum(pca_test.explained_variance_ratio_)\n",
    "    pca_df = pd.DataFrame()\n",
    "    pca_df['Cumulative Variance Ratio'] = cvr\n",
    "    pca_df['Explained Variance Ratio'] = evr\n",
    "    display(pca_df.head(55))\n",
    "    \n",
    "    #PCA plot with plotly express\n",
    "    pca=PCA(n_components=2)\n",
    "    principalComponents=pca.fit_transform(XX)\n",
    "    prinicpaldf=pd.DataFrame(data=principalComponents,columns=[\"principal_component_1\",\"prinicpal_component_2\"],index=index)\n",
    "    prinicpaldf[\"Label\"]=prinicpaldf.index\n",
    "    prinicpaldf[\"Label\"]=prinicpaldf[\"Label\"].apply(lambda x: 'SGP' if 'SGP' in x else x)\n",
    "    prinicpaldf[\"Label\"]=prinicpaldf[\"Label\"].apply(lambda x: 'ICN' if 'ICN' in x else x)\n",
    "    prinicpaldf[\"Label\"]=prinicpaldf[\"Label\"].apply(lambda x: 'NYC' if 'NYC' in x else x)\n",
    "    prinicpaldf[\"Label\"]=prinicpaldf[\"Label\"].apply(lambda x: 'HKG' if 'HKG' in x else x)\n",
    "    prinicpaldf[\"Label\"]=prinicpaldf[\"Label\"].apply(lambda x: 'TPE' if 'TPE' in x else x)\n",
    "    prinicpaldf[\"Label\"]=prinicpaldf[\"Label\"].apply(lambda x: 'TYO' if 'TYO' in x else x)\n",
    "    prinicpaldf[\"Label\"]=prinicpaldf[\"Label\"].apply(lambda x: 'ILR' if 'ILR' in x else x)\n",
    "    prinicpaldf[\"Label\"]=prinicpaldf[\"Label\"].apply(lambda x: 'IEV' if 'IEV' in x else x)\n",
    "    prinicpaldf[\"Label\"]=prinicpaldf[\"Label\"].apply(lambda x: 'VIE' if 'VIE' in x else x)\n",
    "    fig=px.scatter(principalComponents,x=0,y=1,color=prinicpaldf[\"Label\"],hover_data=[prinicpaldf.index],labels={'0':'PC 1','1':'PC 2'},title=Titel,width=600, height=800)\n",
    "    fig.update_layout(title={'text': Titel,'y':0.9,'x':0.5,'xanchor': 'center','yanchor': 'top'})\n",
    "    fig.show()\n"
   ]
  },
  {
   "cell_type": "code",
   "execution_count": null,
   "metadata": {},
   "outputs": [],
   "source": [
    "PCA_Function(\"top10.csv\",\"Top 10 PCA\")"
   ]
  },
  {
   "cell_type": "code",
   "execution_count": null,
   "metadata": {},
   "outputs": [],
   "source": [
    "PCA_Function(\"top10_1.csv\",\"Top 10_1 PCA\")"
   ]
  },
  {
   "cell_type": "code",
   "execution_count": null,
   "metadata": {},
   "outputs": [],
   "source": [
    "PCA_Function(\"top10_2.csv\",\"Top 10_2 PCA\")"
   ]
  },
  {
   "cell_type": "code",
   "execution_count": null,
   "metadata": {},
   "outputs": [],
   "source": [
    "PCA_Function(\"top20.csv\",\"Top 20 PCA\")"
   ]
  },
  {
   "cell_type": "code",
   "execution_count": null,
   "metadata": {},
   "outputs": [],
   "source": [
    "PCA_Function(\"top20_1.csv\",\"Top 20_1 PCA\")"
   ]
  },
  {
   "cell_type": "code",
   "execution_count": null,
   "metadata": {},
   "outputs": [],
   "source": [
    "PCA_Function(\"top20_2.csv\",\"Top 20_2 PCA\")"
   ]
  },
  {
   "cell_type": "code",
   "execution_count": null,
   "metadata": {},
   "outputs": [],
   "source": [
    "PCA_Function(\"top30.csv\",\"Top 30 PCA\")"
   ]
  },
  {
   "cell_type": "code",
   "execution_count": null,
   "metadata": {},
   "outputs": [],
   "source": [
    "PCA_Function(\"top30_1.csv\",\"Top 30_1 PCA\")"
   ]
  },
  {
   "cell_type": "code",
   "execution_count": null,
   "metadata": {},
   "outputs": [],
   "source": [
    "PCA_Function(\"top30_2.csv\",\"Top 30_2 PCA\")"
   ]
  },
  {
   "cell_type": "code",
   "execution_count": null,
   "metadata": {},
   "outputs": [],
   "source": [
    "PCA_Function(\"top100.csv\",\"Top 100 PCA\")"
   ]
  },
  {
   "cell_type": "code",
   "execution_count": null,
   "metadata": {},
   "outputs": [],
   "source": [
    "PCA_Function(\"top100_1.csv\",\"Top 100_1 PCA\")"
   ]
  },
  {
   "cell_type": "code",
   "execution_count": null,
   "metadata": {},
   "outputs": [],
   "source": [
    "PCA_Function(\"top100_2.csv\",\"Top 100_2 PCA\")"
   ]
  },
  {
   "cell_type": "code",
   "execution_count": null,
   "metadata": {},
   "outputs": [],
   "source": [
    "PCA_Function(\"bacteria\",\"bacteria all PCA\")"
   ]
  },
  {
   "cell_type": "code",
   "execution_count": null,
   "metadata": {},
   "outputs": [],
   "source": []
  },
  {
   "cell_type": "code",
   "execution_count": null,
   "metadata": {},
   "outputs": [],
   "source": []
  },
  {
   "cell_type": "code",
   "execution_count": null,
   "metadata": {},
   "outputs": [],
   "source": []
  },
  {
   "cell_type": "code",
   "execution_count": null,
   "metadata": {},
   "outputs": [],
   "source": []
  },
  {
   "cell_type": "code",
   "execution_count": null,
   "metadata": {},
   "outputs": [],
   "source": []
  }
 ],
 "metadata": {
  "kernelspec": {
   "display_name": "Python 3",
   "language": "python",
   "name": "python3"
  },
  "language_info": {
   "codemirror_mode": {
    "name": "ipython",
    "version": 3
   },
   "file_extension": ".py",
   "mimetype": "text/x-python",
   "name": "python",
   "nbconvert_exporter": "python",
   "pygments_lexer": "ipython3",
   "version": "3.8.5"
  }
 },
 "nbformat": 4,
 "nbformat_minor": 4
}
