{
 "cells": [
  {
   "cell_type": "code",
   "execution_count": null,
   "metadata": {},
   "outputs": [],
   "source": [
    "import pandas as pd\n",
    "import matplotlib\n",
    "import matplotlib.pyplot as plt\n",
    "import seaborn as sns\n",
    "import numpy as np\n",
    "import plotly.express as px\n",
    "from sklearn.model_selection import train_test_split\n",
    "from sklearn import svm\n",
    "from sklearn.model_selection import cross_validate\n",
    "from sklearn import metrics\n",
    "from sklearn.preprocessing import StandardScaler\n",
    "from sklearn.model_selection import cross_val_predict\n",
    "from sklearn.metrics import cohen_kappa_score\n",
    "\n",
    "\n",
    "%matplotlib inline"
   ]
  },
  {
   "cell_type": "code",
   "execution_count": null,
   "metadata": {},
   "outputs": [],
   "source": [
    "def SVM_Function(input_1,filename):\n",
    "    #dataframe import\n",
    "    inputdf=pd.read_csv(input_1).drop([\"ovarall\"],axis=1, errors='ignore')\n",
    "    df=inputdf.drop([\"Unnamed: 0\"],axis=1, errors='ignore').set_index(\"species\").T\n",
    "    \n",
    "    #Spalte mit label adden\n",
    "    df[\"Label\"]=df.index\n",
    "    df[\"Label\"]=df.Label.apply(lambda x: 'SGP' if 'SGP' in x else x)\n",
    "    df[\"Label\"]=df.Label.apply(lambda x: 'ICN' if 'ICN' in x else x)\n",
    "    df[\"Label\"]=df.Label.apply(lambda x: 'NYC' if 'NYC' in x else x)\n",
    "    df[\"Label\"]=df.Label.apply(lambda x: 'HKG' if 'HKG' in x else x)\n",
    "    df[\"Label\"]=df.Label.apply(lambda x: 'TPE' if 'TPE' in x else x)\n",
    "    df[\"Label\"]=df.Label.apply(lambda x: 'TYO' if 'TYO' in x else x)\n",
    "    df[\"Label\"]=df.Label.apply(lambda x: 'ILR' if 'ILR' in x else x)\n",
    "    df[\"Label\"]=df.Label.apply(lambda x: 'IEV' if 'IEV' in x else x)\n",
    "    df[\"Label\"]=df.Label.apply(lambda x: 'VIE' if 'VIE' in x else x)\n",
    "    df = df.sort_values('Label')\n",
    "    \n",
    "    #train test split\n",
    "    X=df[df.columns[0:df.shape[1]-1]]\n",
    "    #X=StandardScaler().fit_transform(df[df.columns[0:df.shape[1]-1]])\n",
    "    Y=df[\"Label\"]\n",
    "    X_train, X_test, Y_train, Y_test=train_test_split(X,Y,test_size=0.3,stratify=df[\"Label\"],random_state=123)\n",
    "    \n",
    "    #cost parameter tuning\n",
    "    acc=[]\n",
    "    for i in range(1,200):\n",
    "        svmz=svm.SVC(kernel=\"rbf\",C=i)\n",
    "        cvz = cross_validate(svmz, X, Y, cv=5)\n",
    "        #svmz.fit(X_train,Y_train)\n",
    "        #pred_i=svmz.predict(X_test)\n",
    "        #acc.append(metrics.accuracy_score(Y_test,pred_i))\n",
    "        acc.append(cvz['test_score'].mean())\n",
    "    plt.figure(figsize=(14,7))\n",
    "    sns.set_style(\"whitegrid\")\n",
    "    plt.plot(range(1,200),acc,color = 'blue',linestyle='dashed', \n",
    "    marker='o',markerfacecolor='red', markersize=5)\n",
    "    plt.title('accuracy vs. C')\n",
    "    plt.xlabel('C')\n",
    "    plt.ylabel('Accuracy (5-fold cross validation)')\n",
    "    print(\"Maximum accuracy:\",max(acc),\"at K =\",acc.index(max(acc))+1)\n",
    "    print()\n",
    "    plt.savefig(filename,dpi=300)\n",
    "    \n",
    "    #SVM train\n",
    "    SVM=svm.SVC(kernel=\"rbf\",C=acc.index(max(acc))+1)\n",
    "    SVM.fit(X_train,Y_train)\n",
    "    \n",
    "    #svm prediction\n",
    "    Y_pred=SVM.predict(X_test)\n",
    "    print(metrics.classification_report(Y_test,Y_pred))\n",
    "    print(\"Cohen Kappa value:\",cohen_kappa_score(Y_test,Y_pred))\n",
    "    \n",
    "    cv = cross_val_predict(SVM, X, Y, cv=5)\n",
    "    print(metrics.classification_report(Y,cv))\n",
    "    \n",
    "    #Cross_validation\n",
    "    cv = cross_validate(SVM, X, Y, cv=5)\n",
    "    print()\n",
    "    print(\"5-fold-cross-validation:\")\n",
    "    print(\"Test score for each fold:\" ,cv['test_score'])\n",
    "    print(\"Mean test score for 5 fold cross validation:\",cv['test_score'].mean())\n",
    "    "
   ]
  },
  {
   "cell_type": "code",
   "execution_count": null,
   "metadata": {},
   "outputs": [],
   "source": [
    "SVM_Function(\"top10.csv\",\"Top 10\")"
   ]
  },
  {
   "cell_type": "code",
   "execution_count": null,
   "metadata": {},
   "outputs": [],
   "source": [
    "SVM_Function(\"top10_1.csv\",\"Top 10_1\")"
   ]
  },
  {
   "cell_type": "code",
   "execution_count": null,
   "metadata": {},
   "outputs": [],
   "source": [
    "SVM_Function(\"top10_2.csv\",\"Top 10_2\")"
   ]
  },
  {
   "cell_type": "code",
   "execution_count": null,
   "metadata": {},
   "outputs": [],
   "source": [
    "SVM_Function(\"top20.csv\",\"Top 20\")"
   ]
  },
  {
   "cell_type": "code",
   "execution_count": null,
   "metadata": {},
   "outputs": [],
   "source": [
    "SVM_Function(\"top20_1.csv\",\"Top 20_1\")"
   ]
  },
  {
   "cell_type": "code",
   "execution_count": null,
   "metadata": {},
   "outputs": [],
   "source": [
    "SVM_Function(\"top20_2.csv\",\"Top 20_2\")"
   ]
  },
  {
   "cell_type": "code",
   "execution_count": null,
   "metadata": {},
   "outputs": [],
   "source": [
    "SVM_Function(\"top30.csv\",\"Top 30\")"
   ]
  },
  {
   "cell_type": "code",
   "execution_count": null,
   "metadata": {},
   "outputs": [],
   "source": [
    "SVM_Function(\"top30_1.csv\",\"Top 30_1\")"
   ]
  },
  {
   "cell_type": "code",
   "execution_count": null,
   "metadata": {},
   "outputs": [],
   "source": [
    "SVM_Function(\"top30_2.csv\",\"Top 30_2\")"
   ]
  },
  {
   "cell_type": "code",
   "execution_count": null,
   "metadata": {},
   "outputs": [],
   "source": [
    "SVM_Function(\"top100.csv\",\"Top 100\")"
   ]
  },
  {
   "cell_type": "code",
   "execution_count": null,
   "metadata": {},
   "outputs": [],
   "source": [
    "SVM_Function(\"top100_1.csv\",\"Top 100_1\")"
   ]
  },
  {
   "cell_type": "code",
   "execution_count": null,
   "metadata": {},
   "outputs": [],
   "source": [
    "SVM_Function(\"top100_2.csv\",\"Top 100_2\")"
   ]
  },
  {
   "cell_type": "code",
   "execution_count": null,
   "metadata": {},
   "outputs": [],
   "source": [
    "SVM_Function(\"bacteria\",\"all bacteria\")"
   ]
  },
  {
   "cell_type": "code",
   "execution_count": null,
   "metadata": {},
   "outputs": [],
   "source": []
  },
  {
   "cell_type": "code",
   "execution_count": null,
   "metadata": {},
   "outputs": [],
   "source": []
  },
  {
   "cell_type": "code",
   "execution_count": null,
   "metadata": {},
   "outputs": [],
   "source": []
  }
 ],
 "metadata": {
  "kernelspec": {
   "display_name": "Python 3",
   "language": "python",
   "name": "python3"
  },
  "language_info": {
   "codemirror_mode": {
    "name": "ipython",
    "version": 3
   },
   "file_extension": ".py",
   "mimetype": "text/x-python",
   "name": "python",
   "nbconvert_exporter": "python",
   "pygments_lexer": "ipython3",
   "version": "3.8.5"
  }
 },
 "nbformat": 4,
 "nbformat_minor": 4
}
